{
 "cells": [
  {
   "cell_type": "code",
   "execution_count": 7,
   "metadata": {},
   "outputs": [],
   "source": [
    "numero1 = 0\n",
    "numero2 = 1\n",
    "numero3 = 2"
   ]
  },
  {
   "cell_type": "code",
   "execution_count": 8,
   "metadata": {},
   "outputs": [
    {
     "name": "stdout",
     "output_type": "stream",
     "text": [
      "True\n",
      "False\n",
      "False\n",
      "True\n"
     ]
    }
   ],
   "source": [
    "print(numero1 < numero2)\n",
    "print(numero1 < numero2 and  numero1 > numero3)\n",
    "print(numero3 == numero2)\n",
    "print(numero2 != numero1)"
   ]
  },
  {
   "cell_type": "code",
   "execution_count": 9,
   "metadata": {},
   "outputs": [
    {
     "name": "stdout",
     "output_type": "stream",
     "text": [
      "2.57\n",
      "2.03\n",
      "0.13999999999999968\n",
      "8.52\n"
     ]
    }
   ],
   "source": [
    "altura1 = 0.27\n",
    "altura2 = 2.30\n",
    "print(altura1 + altura2)\n",
    "print(altura2 - altura1)\n",
    "print(altura2 % altura1)\n",
    "print(round(altura2/altura1,2))"
   ]
  },
  {
   "cell_type": "code",
   "execution_count": 10,
   "metadata": {},
   "outputs": [
    {
     "name": "stdout",
     "output_type": "stream",
     "text": [
      "MARIA GARCIA\n",
      "maria garcia\n",
      "Maria Garcia\n",
      "Maria garcia\n"
     ]
    }
   ],
   "source": [
    "nombre_usuario = input(\"introduzca su nombre y apellidos\")\n",
    "print(nombre_usuario.upper())\n",
    "print(nombre_usuario.lower())\n",
    "print(nombre_usuario.title())\n",
    "print(nombre_usuario.capitalize())\n"
   ]
  },
  {
   "cell_type": "code",
   "execution_count": 11,
   "metadata": {},
   "outputs": [
    {
     "name": "stdout",
     "output_type": "stream",
     "text": [
      "los puentes de madison\n",
      "a\n",
      "A\n",
      "los puentes de madison A\n"
     ]
    }
   ],
   "source": [
    "frase = input(\"escribe tu película preferida\")\n",
    "print(frase)\n",
    "vocal = input(\"introduce una vocal\")\n",
    "print(vocal)\n",
    "print(vocal.capitalize())\n",
    "print(frase , (vocal.capitalize()))"
   ]
  },
  {
   "cell_type": "code",
   "execution_count": 10,
   "metadata": {},
   "outputs": [
    {
     "name": "stdout",
     "output_type": "stream",
     "text": [
      "['per', 'manzana', 'pasta']\n",
      "per\n",
      "manzana\n",
      "pasta\n"
     ]
    },
    {
     "ename": "TypeError",
     "evalue": "'str' object is not callable",
     "output_type": "error",
     "traceback": [
      "\u001b[0;31m---------------------------------------------------------------------------\u001b[0m",
      "\u001b[0;31mTypeError\u001b[0m                                 Traceback (most recent call last)",
      "\u001b[0;32m/tmp/ipykernel_700/2678665022.py\u001b[0m in \u001b[0;36m<module>\u001b[0;34m\u001b[0m\n\u001b[1;32m     13\u001b[0m \u001b[0;31m#no nos salen las palabras entre comillas como en el enunciado\u001b[0m\u001b[0;34m\u001b[0m\u001b[0;34m\u001b[0m\u001b[0m\n\u001b[1;32m     14\u001b[0m \u001b[0;34m\u001b[0m\u001b[0m\n\u001b[0;32m---> 15\u001b[0;31m \u001b[0mstring_lista\u001b[0m\u001b[0;34m(\u001b[0m\u001b[0mtype\u001b[0m\u001b[0;34m)\u001b[0m\u001b[0;34m\u001b[0m\u001b[0;34m\u001b[0m\u001b[0m\n\u001b[0m",
      "\u001b[0;31mTypeError\u001b[0m: 'str' object is not callable"
     ]
    }
   ],
   "source": [
    "lista_de_la_compra = input(\"introduce la lista de la compra\").split(\",\")\n",
    "#la funcion split() divide las letras de un string en los elementos de una lista.\n",
    "#el criterio de por dónde se separa entre los paréntesis, en este caso la coma\n",
    "\n",
    "print(lista_de_la_compra)\n",
    "\n",
    "string_lista = \"\\n\".join(lista_de_la_compra) \n",
    "#la funcion join() convierte los elementos de un string en una frase. Al principio definimos \n",
    "#qué habrá entre elementos en la frase resultante. En este caso un salto de línea\n",
    "\n",
    "print(string_lista)\n",
    "\n",
    "#no nos salen las palabras entre comillas como en el enunciado\n",
    "\n",
    "string_lista\n"
   ]
  },
  {
   "cell_type": "code",
   "execution_count": 13,
   "metadata": {},
   "outputs": [
    {
     "ename": "ValueError",
     "evalue": "could not convert string to float: ''",
     "output_type": "error",
     "traceback": [
      "\u001b[0;31m---------------------------------------------------------------------------\u001b[0m",
      "\u001b[0;31mValueError\u001b[0m                                Traceback (most recent call last)",
      "Cell \u001b[0;32mIn[13], line 5\u001b[0m\n\u001b[1;32m      1\u001b[0m \u001b[39m#lista_amigos = input(\"Escribe el nombre de tus amigos\").split(\",\")\u001b[39;00m\n\u001b[1;32m      3\u001b[0m lista_alturas \u001b[39m=\u001b[39m \u001b[39minput\u001b[39m(\u001b[39m\"\u001b[39m\u001b[39mEscribe las alturas de tus amigos\u001b[39m\u001b[39m\"\u001b[39m)\u001b[39m.\u001b[39msplit(\u001b[39m\"\u001b[39m\u001b[39m,\u001b[39m\u001b[39m\"\u001b[39m)\n\u001b[0;32m----> 5\u001b[0m lista_alturas \u001b[39m=\u001b[39m [\u001b[39mfloat\u001b[39m(i) \u001b[39mfor\u001b[39;00m i \u001b[39min\u001b[39;00m lista_alturas]\n\u001b[1;32m      7\u001b[0m lista_alturas_rev \u001b[39m=\u001b[39m lista_alturas\u001b[39m.\u001b[39msort(reverse\u001b[39m=\u001b[39m\u001b[39mTrue\u001b[39;00m)\n\u001b[1;32m      9\u001b[0m \u001b[39mprint\u001b[39m(\u001b[39mmax\u001b[39m(lista_alturas))\n",
      "Cell \u001b[0;32mIn[13], line 5\u001b[0m, in \u001b[0;36m<listcomp>\u001b[0;34m(.0)\u001b[0m\n\u001b[1;32m      1\u001b[0m \u001b[39m#lista_amigos = input(\"Escribe el nombre de tus amigos\").split(\",\")\u001b[39;00m\n\u001b[1;32m      3\u001b[0m lista_alturas \u001b[39m=\u001b[39m \u001b[39minput\u001b[39m(\u001b[39m\"\u001b[39m\u001b[39mEscribe las alturas de tus amigos\u001b[39m\u001b[39m\"\u001b[39m)\u001b[39m.\u001b[39msplit(\u001b[39m\"\u001b[39m\u001b[39m,\u001b[39m\u001b[39m\"\u001b[39m)\n\u001b[0;32m----> 5\u001b[0m lista_alturas \u001b[39m=\u001b[39m [\u001b[39mfloat\u001b[39;49m(i) \u001b[39mfor\u001b[39;00m i \u001b[39min\u001b[39;00m lista_alturas]\n\u001b[1;32m      7\u001b[0m lista_alturas_rev \u001b[39m=\u001b[39m lista_alturas\u001b[39m.\u001b[39msort(reverse\u001b[39m=\u001b[39m\u001b[39mTrue\u001b[39;00m)\n\u001b[1;32m      9\u001b[0m \u001b[39mprint\u001b[39m(\u001b[39mmax\u001b[39m(lista_alturas))\n",
      "\u001b[0;31mValueError\u001b[0m: could not convert string to float: ''"
     ]
    }
   ],
   "source": [
    "#lista_amigos = input(\"Escribe el nombre de tus amigos\").split(\",\")\n",
    "\n",
    "lista_alturas = input(\"Escribe las alturas de tus amigos\").split(\",\")\n",
    "\n",
    "lista_alturas = [float(i) for i in lista_alturas]\n",
    "\n",
    "lista_alturas_rev = lista_alturas.sort(reverse=True)\n",
    "\n",
    "print(max(lista_alturas))\n",
    "\n",
    "print(min(lista_alturas))\n",
    "\n"
   ]
  },
  {
   "cell_type": "code",
   "execution_count": null,
   "metadata": {},
   "outputs": [
    {
     "name": "stdout",
     "output_type": "stream",
     "text": [
      "[[44, 55, 67, 44, 98, 29], [34, 56, 56, 78, 67, 56]]\n",
      "[44, 55, 67, 44, 98, 29, 34, 56, 56, 78, 67, 56]\n",
      "0\n",
      "2\n",
      "[56, 67, 78, 56, 56, 34, 29, 98, 44, 67, 55, 44]\n"
     ]
    }
   ],
   "source": [
    "lista1 = [44, 55, 67, 44, 98, 29]\n",
    "lista2 = [34, 56, 56, 78, 67, 56]\n",
    "\n",
    "lista_lista = [lista1,lista2]\n",
    "print(lista_lista)\n",
    "\n",
    "lista_numeros = lista1 + lista2 \n",
    "#ojo no meter dentro de corchetes, \n",
    "#porque queremos juntar dos listas, \n",
    "#no meter esta lista unificada dentro de otra lista\n",
    "\n",
    "print(lista_numeros)\n",
    "\n",
    "print(lista_lista.count(67))\n",
    "\n",
    "print(lista_numeros.count(67))\n",
    "\n",
    "#Salen diferentes porque en lista_lista los elementos son lista1 y lista2, \n",
    "#ninguno coincide con 67\n",
    "\n",
    "lista_numeros.reverse()\n",
    "print(lista_numeros)\n",
    "\n",
    "\n",
    "\n"
   ]
  },
  {
   "cell_type": "code",
   "execution_count": 25,
   "metadata": {},
   "outputs": [
    {
     "data": {
      "text/plain": [
       "10"
      ]
     },
     "execution_count": 25,
     "metadata": {},
     "output_type": "execute_result"
    }
   ],
   "source": [
    "#EJECICIO 3 PAIR\n",
    "import random\n",
    "lista = random.sample(range(1,100), 10)\n",
    "len(lista)"
   ]
  },
  {
   "cell_type": "code",
   "execution_count": 26,
   "metadata": {},
   "outputs": [
    {
     "data": {
      "text/plain": [
       "8"
      ]
     },
     "execution_count": 26,
     "metadata": {},
     "output_type": "execute_result"
    }
   ],
   "source": [
    "lista[2]"
   ]
  },
  {
   "cell_type": "code",
   "execution_count": 27,
   "metadata": {},
   "outputs": [
    {
     "data": {
      "text/plain": [
       "8"
      ]
     },
     "execution_count": 27,
     "metadata": {},
     "output_type": "execute_result"
    }
   ],
   "source": [
    "lista[len(lista)-8]\n",
    "lista[-8]"
   ]
  },
  {
   "cell_type": "code",
   "execution_count": 29,
   "metadata": {},
   "outputs": [
    {
     "name": "stdout",
     "output_type": "stream",
     "text": [
      "[70, 36, 8, 79, 41, 44, 40, 64, 89, 77]\n",
      "3\n"
     ]
    }
   ],
   "source": [
    "print(lista)\n",
    "eleccion_usuaria = input(\"elige un número de la lista\")\n",
    "print(lista.index(int(eleccion_usuaria))+1) # por interpretación de la pregunta, para que la usuaria sepa la posición, le decimos el índice y sumamos 1 #INT para forzar que el INDEX busque un INTEGER y NO un STRING como devuelve el input\n"
   ]
  },
  {
   "cell_type": "code",
   "execution_count": 30,
   "metadata": {},
   "outputs": [
    {
     "data": {
      "text/plain": [
       "[8, 79, 41]"
      ]
     },
     "execution_count": 30,
     "metadata": {},
     "output_type": "execute_result"
    }
   ],
   "source": [
    "lista[2:5]"
   ]
  },
  {
   "cell_type": "code",
   "execution_count": 31,
   "metadata": {},
   "outputs": [
    {
     "data": {
      "text/plain": [
       "[44, 40, 64, 89]"
      ]
     },
     "execution_count": 31,
     "metadata": {},
     "output_type": "execute_result"
    }
   ],
   "source": [
    "lista[-5:-1]"
   ]
  },
  {
   "cell_type": "code",
   "execution_count": 32,
   "metadata": {},
   "outputs": [
    {
     "data": {
      "text/plain": [
       "[36, 79, 44, 64, 77]"
      ]
     },
     "execution_count": 32,
     "metadata": {},
     "output_type": "execute_result"
    }
   ],
   "source": [
    "lista[1::2]"
   ]
  },
  {
   "cell_type": "code",
   "execution_count": 33,
   "metadata": {},
   "outputs": [
    {
     "data": {
      "text/plain": [
       "[70, 8, 41, 40, 89]"
      ]
     },
     "execution_count": 33,
     "metadata": {},
     "output_type": "execute_result"
    }
   ],
   "source": [
    "lista[::2]"
   ]
  },
  {
   "cell_type": "code",
   "execution_count": 28,
   "metadata": {},
   "outputs": [],
   "source": [
    "nombres = [\"Laura\", \"Lorena\", \"Lupe\", \"Loreto\", \"Lucía\"]\n",
    "\n",
    "notas = [9, 8.5, 9.8, 8.9, 9.2]"
   ]
  },
  {
   "cell_type": "code",
   "execution_count": 29,
   "metadata": {},
   "outputs": [
    {
     "data": {
      "text/plain": [
       "9.8"
      ]
     },
     "execution_count": 29,
     "metadata": {},
     "output_type": "execute_result"
    }
   ],
   "source": [
    "nombres.index(\"Lupe\")\n",
    "lupe = nombres.index(\"Lupe\")\n",
    "notas[lupe] #se supone que nombres está relacionado con notas, es decir, la nota de Laura es la primera nota que está en notas.\n"
   ]
  },
  {
   "cell_type": "code",
   "execution_count": 30,
   "metadata": {},
   "outputs": [
    {
     "name": "stdout",
     "output_type": "stream",
     "text": [
      "9.8\n",
      "2\n"
     ]
    },
    {
     "data": {
      "text/plain": [
       "'Lupe'"
      ]
     },
     "execution_count": 30,
     "metadata": {},
     "output_type": "execute_result"
    }
   ],
   "source": [
    "nota_max = max(notas)\n",
    "print(nota_max)\n",
    "nota_max_index = notas.index(nota_max)\n",
    "print(nota_max_index)\n",
    "nombres[nota_max_index]"
   ]
  },
  {
   "cell_type": "code",
   "execution_count": 61,
   "metadata": {},
   "outputs": [
    {
     "name": "stdout",
     "output_type": "stream",
     "text": [
      "8.5\n",
      "1\n",
      "True\n",
      "True\n"
     ]
    }
   ],
   "source": [
    "nota_min = min(notas)\n",
    "print(nota_min)\n",
    "nota_min_index = notas.index(nota_min)\n",
    "print(nota_min_index)\n",
    "nombres[nota_min_index]#revisar mayor que 5\n",
    "print(nota_min > 5)\n",
    "print(min(notas) > 5)"
   ]
  },
  {
   "cell_type": "code",
   "execution_count": 32,
   "metadata": {},
   "outputs": [],
   "source": [
    "notas_nuevo_orden = (sorted(notas,reverse=True))"
   ]
  },
  {
   "cell_type": "code",
   "execution_count": 33,
   "metadata": {},
   "outputs": [
    {
     "name": "stdout",
     "output_type": "stream",
     "text": [
      "[9, 8.5, 9.8, 8.9, 9.2]\n"
     ]
    },
    {
     "data": {
      "text/plain": [
       "[9.8, 9.2, 9, 8.9, 8.5]"
      ]
     },
     "execution_count": 33,
     "metadata": {},
     "output_type": "execute_result"
    }
   ],
   "source": [
    "notas_copia = notas.copy()\n",
    "print(notas_copia)\n",
    "notas_copia.sort(reverse=True)\n",
    "notas_copia"
   ]
  },
  {
   "cell_type": "code",
   "execution_count": 34,
   "metadata": {},
   "outputs": [
    {
     "name": "stdout",
     "output_type": "stream",
     "text": [
      "['Laura', 'Lorena', 'Lupe', 'Loreto', 'Lucía']\n"
     ]
    },
    {
     "data": {
      "text/plain": [
       "['Lupe', 'Lucía', 'Loreto', 'Lorena', 'Laura']"
      ]
     },
     "execution_count": 34,
     "metadata": {},
     "output_type": "execute_result"
    }
   ],
   "source": [
    "nombres_copia = nombres.copy()\n",
    "print(nombres_copia)\n",
    "nombres_copia.sort(reverse=True)\n",
    "nombres_copia # Ha ordenado los nombres alfabéticamente al revés."
   ]
  },
  {
   "cell_type": "code",
   "execution_count": 41,
   "metadata": {},
   "outputs": [
    {
     "name": "stdout",
     "output_type": "stream",
     "text": [
      "[9, 8.5, 9.8, 8.9, 9.2]\n"
     ]
    }
   ],
   "source": [
    "notas_copias2 = notas.copy()\n",
    "print(notas_copias2)\n",
    "del notas_copias2\n",
    "\n"
   ]
  },
  {
   "cell_type": "code",
   "execution_count": 50,
   "metadata": {},
   "outputs": [
    {
     "name": "stdout",
     "output_type": "stream",
     "text": [
      "[34, 56, 82, [99, 64, 24]]\n",
      "[34, 56, 82, [99, 64, 24], [12, 59, 71]]\n"
     ]
    }
   ],
   "source": [
    "lunes = [34,56,82]\n",
    "martes = [99, 64, 24]\n",
    "miercoles = [12, 59, 71]\n",
    "lunes.append(martes)\n",
    "print(lunes)\n",
    "lunes.append(miercoles)\n",
    "print(lunes)"
   ]
  },
  {
   "cell_type": "code",
   "execution_count": 56,
   "metadata": {},
   "outputs": [
    {
     "name": "stdout",
     "output_type": "stream",
     "text": [
      "[34, 56, 82, 99, 64, 24]\n",
      "[34, 56, 82, 99, 64, 24, 12, 59, 71]\n"
     ]
    }
   ],
   "source": [
    "lunes = [34,56,82]\n",
    "martes = [99, 64, 24]\n",
    "miercoles = [12, 59, 71]\n",
    "lunes.extend(martes)\n",
    "print(lunes)\n",
    "lunes.extend(miercoles)\n",
    "print(lunes)"
   ]
  },
  {
   "cell_type": "code",
   "execution_count": 77,
   "metadata": {},
   "outputs": [
    {
     "name": "stdout",
     "output_type": "stream",
     "text": [
      "[100, 34, 56, 82]\n",
      "[99, 64, 100, 24]\n",
      "[12, 59, 71, 100]\n",
      "[12, 59, 71, 100, 100]\n"
     ]
    }
   ],
   "source": [
    "lunes = [34,56,82]\n",
    "martes = [99, 64, 24]\n",
    "miercoles = [12, 59, 71]\n",
    "lunes.insert(0,100)\n",
    "print(lunes)\n",
    "martes.insert(2,100)\n",
    "print(martes)\n",
    "miercoles.insert(miercoles[-1],100)\n",
    "print(miercoles)\n"
   ]
  },
  {
   "attachments": {},
   "cell_type": "markdown",
   "metadata": {},
   "source": [
    "Nuestro diccionario estará compuesto por cuatro keys que serán:\n",
    "nombres\n",
    "apellidos\n",
    "edades\n",
    "hijos\n",
    "Cada una de las keys tendrá un value que será una lista que iremos construyendo con inputs. Para crear los values seguid los pasos que os indicamos a continuación.\n",
    "\n",
    "Cread un input que pregunte a la usuaria por tres nombres. Almacenad el resultado en una lista. Esta lista será el value de la key nombres\n",
    "\n",
    "Cread un input que pregunte a la usuaria por tres apellidos. Convertir el resultado en lista y este será el value de la key apellidos.\n",
    "\n",
    "Cread un input que pregunte a la usuaria por tres edades. Almancenad los resultados en una lista. Esta lista será el value de la key edades.\n",
    "\n",
    "Cread un input que pregunte a la usuaria por el número de hijos. Almacenad este resultado en una lista. Esta lista será el value de la key hijos.\n",
    "\n",
    "Cread un diccionario con los resultados del input. Al final de todos estos pasos deberíamos tener un diccionario similar a este:\n",
    "\n",
    "{'nombres': ['Lara', ' Alejandro', ' Ana'],\n",
    "  'apellidos': ['Lopez', ' Martin', ' Solo'],\n",
    "  'edades': [34, 20, 28],\n",
    "  'hijos': [2, 0, 1]}\n",
    "\n",
    "pistas:\n",
    "  edades[0] = int(edades[0])\n",
    "  lista1 = ['a','b','c']\n",
    "  lista1[0] = int(lista1[0])\n",
    "  print(lista1)\n",
    "\n"
   ]
  },
  {
   "cell_type": "code",
   "execution_count": 22,
   "metadata": {},
   "outputs": [
    {
     "name": "stdout",
     "output_type": "stream",
     "text": [
      "['Lara', 'Alejandro', 'Ana']\n",
      "{'nombres': ['Lara', 'Alejandro', 'Ana'], 'apellidos': ['Lopez', 'Martin', 'Solo'], 'edad': [34, 20, 28], 'num_hijos': [2, 0, 1]}\n"
     ]
    }
   ],
   "source": [
    "nombres = input(\"Introduce los 3 nombres\").split(\",\")\n",
    "print(nombres)\n",
    "\n",
    "apellidos = input(\"Introduce los 3 apellidos\").split(\",\")\n",
    "\n",
    "edades = (input(\"Introduce las 3 edades\")).split(\",\")\n",
    "edades[0] = int(edades[0])\n",
    "edades[1] = int(edades[1])\n",
    "edades[2] = int(edades[2])\n",
    "\n",
    "hijos = input(\"Introduce el número de hijos\").split(\",\")\n",
    "hijos[0] = int(hijos[0])\n",
    "hijos[1] = int(hijos[1])\n",
    "hijos[2] = int(hijos[2])\n",
    "\n",
    "usuarias = {\"nombres\":nombres, \"apellidos\":apellidos,\"edad\":edades,\"num_hijos\":hijos}\n",
    "\n",
    "print(usuarias)"
   ]
  },
  {
   "attachments": {},
   "cell_type": "markdown",
   "metadata": {},
   "source": [
    "Una vez tengáis creado el diccionario, añadid una nueva key donde tengamos la información sobre el número de hermanos."
   ]
  },
  {
   "cell_type": "code",
   "execution_count": 23,
   "metadata": {},
   "outputs": [
    {
     "name": "stdout",
     "output_type": "stream",
     "text": [
      "{'nombres': ['Lara', 'Alejandro', 'Ana'], 'apellidos': ['Lopez', 'Martin', 'Solo'], 'edad': [34, 20, 28], 'num_hijos': [2, 0, 1], 'num_hermanos': [0, 1, 2]}\n"
     ]
    }
   ],
   "source": [
    "hermanos = (input(\"Introduce el número de hermanos de cada persona\")).split(\",\")\n",
    "hermanos[0] = int(hermanos[0])\n",
    "hermanos[1] = int(hermanos[1])\n",
    "hermanos[2] = int(hermanos[2])\n",
    "usuarias.update({\"num_hermanos\" : hermanos}) # Método 1\n",
    "# usuarias[\"num_hermanos\"] = hermanos # Método 2\n",
    "print(usuarias)"
   ]
  },
  {
   "attachments": {},
   "cell_type": "markdown",
   "metadata": {},
   "source": [
    "¿Cúales son las keys de nuestro diccionario? ¿Y los values?\n",
    "\n",
    "Ordena los elementos del diccionario basándonos en las keys y los values. Esto nos devuelve una lista de tuplas(todavía no hemos visto este tipo de datos, pero lo veremos en la lección de mañana). Convertid esta lista de tuplas en diccionario.\n",
    "\n"
   ]
  },
  {
   "cell_type": "code",
   "execution_count": 24,
   "metadata": {},
   "outputs": [
    {
     "data": {
      "text/plain": [
       "dict_keys(['nombres', 'apellidos', 'edad', 'num_hijos', 'num_hermanos'])"
      ]
     },
     "execution_count": 24,
     "metadata": {},
     "output_type": "execute_result"
    }
   ],
   "source": [
    "usuarias.keys()"
   ]
  },
  {
   "cell_type": "code",
   "execution_count": 25,
   "metadata": {},
   "outputs": [
    {
     "data": {
      "text/plain": [
       "dict_values([['Lara', 'Alejandro', 'Ana'], ['Lopez', 'Martin', 'Solo'], [34, 20, 28], [2, 0, 1], [0, 1, 2]])"
      ]
     },
     "execution_count": 25,
     "metadata": {},
     "output_type": "execute_result"
    }
   ],
   "source": [
    "usuarias.values()"
   ]
  },
  {
   "cell_type": "code",
   "execution_count": 35,
   "metadata": {},
   "outputs": [
    {
     "name": "stdout",
     "output_type": "stream",
     "text": [
      "[('apellidos', ['Lopez', 'Martin', 'Solo']), ('edad', [34, 20, 28]), ('nacionalidad', 'desconocida'), ('nombres', ['Lara', 'Alejandro', 'Ana']), ('num_hermanos', [0, 1, 2]), ('num_hijos', [2, 0, 1])]\n"
     ]
    },
    {
     "data": {
      "text/plain": [
       "{'apellidos': ['Lopez', 'Martin', 'Solo'],\n",
       " 'edad': [34, 20, 28],\n",
       " 'nacionalidad': 'desconocida',\n",
       " 'nombres': ['Lara', 'Alejandro', 'Ana'],\n",
       " 'num_hermanos': [0, 1, 2],\n",
       " 'num_hijos': [2, 0, 1]}"
      ]
     },
     "execution_count": 35,
     "metadata": {},
     "output_type": "execute_result"
    }
   ],
   "source": [
    "print(sorted(usuarias.items()))\n",
    "dict(sorted(usuarias.items()))"
   ]
  },
  {
   "attachments": {},
   "cell_type": "markdown",
   "metadata": {},
   "source": [
    "Para extraer los values de una key podemos hacerlo de varias formas.\n",
    "Extraed los valores de la key nombres. Utilizad dos métodos diferentes.\n",
    "Extraed los valores de la key nacionalidad. En caso de que no exista, cread esa key con el value \"desconocida\"."
   ]
  },
  {
   "cell_type": "code",
   "execution_count": 42,
   "metadata": {},
   "outputs": [
    {
     "name": "stdout",
     "output_type": "stream",
     "text": [
      "['Lara', 'Alejandro', 'Ana']\n",
      "['Lara', 'Alejandro', 'Ana']\n",
      "desconocida\n",
      "{'nombres': ['Lara', 'Alejandro', 'Ana'], 'apellidos': ['Lopez', 'Martin', 'Solo'], 'edad': [34, 20, 28], 'num_hijos': [2, 0, 1], 'num_hermanos': [0, 1, 2], 'nacionalidad': 'desconocida'}\n"
     ]
    }
   ],
   "source": [
    "print(usuarias.setdefault(\"nombres\",[]))\n",
    "print(usuarias.get(\"nombres\"))\n",
    "print(usuarias.setdefault(\"nacionalidad\",\"desconocida\"))\n",
    "print(usuarias)\n"
   ]
  },
  {
   "attachments": {},
   "cell_type": "markdown",
   "metadata": {},
   "source": [
    "Ordena los elementos del diccionario basándonos en las keys y los values. Esto nos devuelve una lista de tuplas(todavía no hemos visto este tipo de datos, pero lo veremos en la lección de mañana). Convertid esta lista de tuplas en diccionario."
   ]
  },
  {
   "cell_type": "code",
   "execution_count": 43,
   "metadata": {},
   "outputs": [
    {
     "name": "stdout",
     "output_type": "stream",
     "text": [
      "[('apellidos', ['Lopez', 'Martin', 'Solo']), ('edad', [34, 20, 28]), ('nacionalidad', 'desconocida'), ('nombres', ['Lara', 'Alejandro', 'Ana']), ('num_hermanos', [0, 1, 2]), ('num_hijos', [2, 0, 1])]\n"
     ]
    },
    {
     "data": {
      "text/plain": [
       "{'apellidos': ['Lopez', 'Martin', 'Solo'],\n",
       " 'edad': [34, 20, 28],\n",
       " 'nacionalidad': 'desconocida',\n",
       " 'nombres': ['Lara', 'Alejandro', 'Ana'],\n",
       " 'num_hermanos': [0, 1, 2],\n",
       " 'num_hijos': [2, 0, 1]}"
      ]
     },
     "execution_count": 43,
     "metadata": {},
     "output_type": "execute_result"
    }
   ],
   "source": [
    "print(sorted(usuarias.items()))\n",
    "dict(sorted(usuarias.items()))"
   ]
  },
  {
   "attachments": {},
   "cell_type": "markdown",
   "metadata": {},
   "source": [
    "Eliminad la key de \"nacionalidad\""
   ]
  },
  {
   "cell_type": "code",
   "execution_count": 44,
   "metadata": {},
   "outputs": [
    {
     "name": "stdout",
     "output_type": "stream",
     "text": [
      "{'nombres': ['Lara', 'Alejandro', 'Ana'], 'apellidos': ['Lopez', 'Martin', 'Solo'], 'edad': [34, 20, 28], 'num_hijos': [2, 0, 1], 'num_hermanos': [0, 1, 2]}\n"
     ]
    }
   ],
   "source": [
    "usuarias.pop(\"nacionalidad\")\n",
    "print(usuarias)"
   ]
  },
  {
   "attachments": {},
   "cell_type": "markdown",
   "metadata": {},
   "source": [
    "Utilizando métodos de Python. ¿Qué persona tiene mayor número de hijos? ¿Y quién es la más joven?"
   ]
  },
  {
   "cell_type": "code",
   "execution_count": 56,
   "metadata": {},
   "outputs": [
    {
     "name": "stdout",
     "output_type": "stream",
     "text": [
      "2\n",
      "[2, 0, 1]\n",
      "0\n",
      "['Lara', 'Alejandro', 'Ana']\n"
     ]
    },
    {
     "data": {
      "text/plain": [
       "'Lara'"
      ]
     },
     "execution_count": 56,
     "metadata": {},
     "output_type": "execute_result"
    }
   ],
   "source": [
    "max_num_hijos = max(usuarias.get(\"num_hijos\"))\n",
    "print(max_num_hijos)\n",
    "usuarias.get(\"num_hijos\").index(max_num_hijos)\n",
    "index_max_num_hijos = usuarias.get(\"num_hijos\").index(max_num_hijos)\n",
    "print(index_max_num_hijos)\n",
    "print(usuarias.get(\"nombres\"))\n",
    "lista_nombres = usuarias.get(\"nombres\")\n",
    "lista_nombres[index_max_num_hijos]\n",
    "\n",
    "# num_hijos = [2,0,1]\n",
    "# indices      0,1,2 \n",
    "# Correcto es 2 hijos, es decir, índice 0.\n",
    "# nombres = ['Lara', 'Alejandro', 'Ana']\n",
    "# indices       0           1       2\n",
    "# Para saber que persona (\"nombres\") tiene mayor número de hijos, utilizamos el índice 0 que hemos obtenido al averiguar el máximo número de hijos, en la lista de \"nombres\" (usuarias.get(\"nombres\"))\n"
   ]
  },
  {
   "cell_type": "code",
   "execution_count": 61,
   "metadata": {},
   "outputs": [
    {
     "name": "stdout",
     "output_type": "stream",
     "text": [
      "20\n",
      "1\n",
      "['Lara', 'Alejandro', 'Ana']\n"
     ]
    },
    {
     "data": {
      "text/plain": [
       "'Alejandro'"
      ]
     },
     "execution_count": 61,
     "metadata": {},
     "output_type": "execute_result"
    }
   ],
   "source": [
    "min_edad = min(usuarias.get(\"edad\"))\n",
    "print(min_edad)\n",
    "usuarias.get(\"edad\").index(min_edad)\n",
    "index_min_edad = usuarias.get(\"edad\").index(min_edad)\n",
    "print(index_min_edad)\n",
    "lista_nombres = usuarias.get(\"nombres\")\n",
    "print(lista_nombres)\n",
    "lista_nombres[index_min_edad]\n"
   ]
  }
 ],
 "metadata": {
  "kernelspec": {
   "display_name": "adalabenv",
   "language": "python",
   "name": "python3"
  },
  "language_info": {
   "codemirror_mode": {
    "name": "ipython",
    "version": 3
   },
   "file_extension": ".py",
   "mimetype": "text/x-python",
   "name": "python",
   "nbconvert_exporter": "python",
   "pygments_lexer": "ipython3",
   "version": "3.10.11"
  },
  "orig_nbformat": 4
 },
 "nbformat": 4,
 "nbformat_minor": 2
}
