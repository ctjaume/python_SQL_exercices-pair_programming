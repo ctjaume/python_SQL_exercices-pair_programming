{
 "cells": [
  {
   "attachments": {},
   "cell_type": "markdown",
   "metadata": {},
   "source": [
    "# Ejercicio 3 Pair Programming"
   ]
  },
  {
   "cell_type": "code",
   "execution_count": 1,
   "metadata": {},
   "outputs": [
    {
     "data": {
      "text/plain": [
       "10"
      ]
     },
     "execution_count": 1,
     "metadata": {},
     "output_type": "execute_result"
    }
   ],
   "source": [
    "import random\n",
    "lista = random.sample(range(1,100), 10)\n",
    "len(lista)"
   ]
  },
  {
   "cell_type": "code",
   "execution_count": 2,
   "metadata": {},
   "outputs": [
    {
     "data": {
      "text/plain": [
       "6"
      ]
     },
     "execution_count": 2,
     "metadata": {},
     "output_type": "execute_result"
    }
   ],
   "source": [
    "lista[2]"
   ]
  },
  {
   "cell_type": "code",
   "execution_count": 3,
   "metadata": {},
   "outputs": [
    {
     "data": {
      "text/plain": [
       "6"
      ]
     },
     "execution_count": 3,
     "metadata": {},
     "output_type": "execute_result"
    }
   ],
   "source": [
    "lista[len(lista)-8]\n",
    "lista[-8]"
   ]
  },
  {
   "cell_type": "code",
   "execution_count": 4,
   "metadata": {},
   "outputs": [
    {
     "name": "stdout",
     "output_type": "stream",
     "text": [
      "[84, 77, 6, 38, 62, 22, 27, 37, 83, 28]\n",
      "6\n"
     ]
    }
   ],
   "source": [
    "print(lista)\n",
    "eleccion_usuaria = input(\"elige un número de la lista\")\n",
    "print(lista.index(int(eleccion_usuaria))+1) # por interpretación de la pregunta, para que la usuaria sepa la posición, le decimos el índice y sumamos 1 #INT para forzar que el INDEX busque un INTEGER y NO un STRING como devuelve el input\n"
   ]
  },
  {
   "cell_type": "code",
   "execution_count": 5,
   "metadata": {},
   "outputs": [
    {
     "data": {
      "text/plain": [
       "[6, 38, 62]"
      ]
     },
     "execution_count": 5,
     "metadata": {},
     "output_type": "execute_result"
    }
   ],
   "source": [
    "lista[2:5]"
   ]
  },
  {
   "cell_type": "code",
   "execution_count": 6,
   "metadata": {},
   "outputs": [
    {
     "data": {
      "text/plain": [
       "[22, 27, 37, 83]"
      ]
     },
     "execution_count": 6,
     "metadata": {},
     "output_type": "execute_result"
    }
   ],
   "source": [
    "lista[-5:-1]"
   ]
  },
  {
   "cell_type": "code",
   "execution_count": 7,
   "metadata": {},
   "outputs": [
    {
     "data": {
      "text/plain": [
       "[77, 38, 22, 37, 28]"
      ]
     },
     "execution_count": 7,
     "metadata": {},
     "output_type": "execute_result"
    }
   ],
   "source": [
    "lista[1::2]"
   ]
  },
  {
   "cell_type": "code",
   "execution_count": 8,
   "metadata": {},
   "outputs": [
    {
     "data": {
      "text/plain": [
       "[84, 6, 62, 27, 83]"
      ]
     },
     "execution_count": 8,
     "metadata": {},
     "output_type": "execute_result"
    }
   ],
   "source": [
    "lista[::2]"
   ]
  },
  {
   "cell_type": "code",
   "execution_count": 9,
   "metadata": {},
   "outputs": [],
   "source": [
    "nombres = [\"Laura\", \"Lorena\", \"Lupe\", \"Loreto\", \"Lucía\"]\n",
    "\n",
    "notas = [9, 8.5, 9.8, 8.9, 9.2]"
   ]
  },
  {
   "cell_type": "code",
   "execution_count": 10,
   "metadata": {},
   "outputs": [
    {
     "data": {
      "text/plain": [
       "9.8"
      ]
     },
     "execution_count": 10,
     "metadata": {},
     "output_type": "execute_result"
    }
   ],
   "source": [
    "nombres.index(\"Lupe\")\n",
    "lupe = nombres.index(\"Lupe\")\n",
    "notas[lupe] #se supone que nombres está relacionado con notas, es decir, la nota de Laura es la primera nota que está en notas.\n"
   ]
  },
  {
   "cell_type": "code",
   "execution_count": 11,
   "metadata": {},
   "outputs": [
    {
     "name": "stdout",
     "output_type": "stream",
     "text": [
      "9.8\n",
      "2\n"
     ]
    },
    {
     "data": {
      "text/plain": [
       "'Lupe'"
      ]
     },
     "execution_count": 11,
     "metadata": {},
     "output_type": "execute_result"
    }
   ],
   "source": [
    "nota_max = max(notas)\n",
    "print(nota_max)\n",
    "nota_max_index = notas.index(nota_max)\n",
    "print(nota_max_index)\n",
    "nombres[nota_max_index]"
   ]
  },
  {
   "cell_type": "code",
   "execution_count": 12,
   "metadata": {},
   "outputs": [
    {
     "name": "stdout",
     "output_type": "stream",
     "text": [
      "8.5\n",
      "1\n",
      "True\n",
      "True\n"
     ]
    }
   ],
   "source": [
    "nota_min = min(notas)\n",
    "print(nota_min)\n",
    "nota_min_index = notas.index(nota_min)\n",
    "print(nota_min_index)\n",
    "nombres[nota_min_index]#revisar mayor que 5\n",
    "print(nota_min > 5)\n",
    "print(min(notas) > 5)"
   ]
  },
  {
   "cell_type": "code",
   "execution_count": 13,
   "metadata": {},
   "outputs": [],
   "source": [
    "notas_nuevo_orden = (sorted(notas,reverse=True))"
   ]
  },
  {
   "cell_type": "code",
   "execution_count": 14,
   "metadata": {},
   "outputs": [
    {
     "name": "stdout",
     "output_type": "stream",
     "text": [
      "[9, 8.5, 9.8, 8.9, 9.2]\n"
     ]
    },
    {
     "data": {
      "text/plain": [
       "[9.8, 9.2, 9, 8.9, 8.5]"
      ]
     },
     "execution_count": 14,
     "metadata": {},
     "output_type": "execute_result"
    }
   ],
   "source": [
    "notas_copia = notas.copy()\n",
    "print(notas_copia)\n",
    "notas_copia.sort(reverse=True)\n",
    "notas_copia"
   ]
  },
  {
   "cell_type": "code",
   "execution_count": 15,
   "metadata": {},
   "outputs": [
    {
     "name": "stdout",
     "output_type": "stream",
     "text": [
      "['Laura', 'Lorena', 'Lupe', 'Loreto', 'Lucía']\n"
     ]
    },
    {
     "data": {
      "text/plain": [
       "['Lupe', 'Lucía', 'Loreto', 'Lorena', 'Laura']"
      ]
     },
     "execution_count": 15,
     "metadata": {},
     "output_type": "execute_result"
    }
   ],
   "source": [
    "nombres_copia = nombres.copy()\n",
    "print(nombres_copia)\n",
    "nombres_copia.sort(reverse=True)\n",
    "nombres_copia # Ha ordenado los nombres alfabéticamente al revés."
   ]
  },
  {
   "cell_type": "code",
   "execution_count": 16,
   "metadata": {},
   "outputs": [
    {
     "name": "stdout",
     "output_type": "stream",
     "text": [
      "[9, 8.5, 9.8, 8.9, 9.2]\n"
     ]
    }
   ],
   "source": [
    "notas_copias2 = notas.copy()\n",
    "print(notas_copias2)\n",
    "del notas_copias2\n",
    "\n"
   ]
  },
  {
   "cell_type": "code",
   "execution_count": 17,
   "metadata": {},
   "outputs": [
    {
     "name": "stdout",
     "output_type": "stream",
     "text": [
      "[34, 56, 82, [99, 64, 24]]\n",
      "[34, 56, 82, [99, 64, 24], [12, 59, 71]]\n"
     ]
    }
   ],
   "source": [
    "lunes = [34,56,82]\n",
    "martes = [99, 64, 24]\n",
    "miercoles = [12, 59, 71]\n",
    "lunes.append(martes)\n",
    "print(lunes)\n",
    "lunes.append(miercoles)\n",
    "print(lunes)"
   ]
  },
  {
   "cell_type": "code",
   "execution_count": 18,
   "metadata": {},
   "outputs": [
    {
     "name": "stdout",
     "output_type": "stream",
     "text": [
      "[34, 56, 82, 99, 64, 24]\n",
      "[34, 56, 82, 99, 64, 24, 12, 59, 71]\n"
     ]
    }
   ],
   "source": [
    "lunes = [34,56,82]\n",
    "martes = [99, 64, 24]\n",
    "miercoles = [12, 59, 71]\n",
    "lunes.extend(martes)\n",
    "print(lunes)\n",
    "lunes.extend(miercoles)\n",
    "print(lunes)"
   ]
  },
  {
   "cell_type": "code",
   "execution_count": 19,
   "metadata": {},
   "outputs": [
    {
     "name": "stdout",
     "output_type": "stream",
     "text": [
      "[100, 34, 56, 82]\n",
      "[99, 64, 100, 24]\n",
      "[12, 59, 71, 100]\n"
     ]
    }
   ],
   "source": [
    "lunes = [34,56,82]\n",
    "martes = [99, 64, 24]\n",
    "miercoles = [12, 59, 71]\n",
    "lunes.insert(0,100)\n",
    "print(lunes)\n",
    "martes.insert(2,100)\n",
    "print(martes)\n",
    "miercoles.insert(miercoles[-1],100)\n",
    "print(miercoles)\n"
   ]
  }
 ],
 "metadata": {
  "kernelspec": {
   "display_name": "adalabenv",
   "language": "python",
   "name": "python3"
  },
  "language_info": {
   "codemirror_mode": {
    "name": "ipython",
    "version": 3
   },
   "file_extension": ".py",
   "mimetype": "text/x-python",
   "name": "python",
   "nbconvert_exporter": "python",
   "pygments_lexer": "ipython3",
   "version": "3.10.11"
  },
  "orig_nbformat": 4
 },
 "nbformat": 4,
 "nbformat_minor": 2
}
