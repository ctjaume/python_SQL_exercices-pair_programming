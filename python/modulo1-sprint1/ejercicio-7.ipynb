{
 "cells": [
  {
   "attachments": {},
   "cell_type": "markdown",
   "metadata": {},
   "source": [
    "1.Escribid un programa que pregunte al usuario una cantidad a invertir, el interés anual y el número de años, y muestre por pantalla el capital obtenido en la inversión cada año que dura la inversión."
   ]
  },
  {
   "cell_type": "code",
   "execution_count": 8,
   "metadata": {},
   "outputs": [
    {
     "name": "stdout",
     "output_type": "stream",
     "text": [
      "164.3835616438356 euros\n"
     ]
    }
   ],
   "source": [
    "#Monto x (tasa de interés x plazo/365) = Ganancia\n",
    "inversión_inicial = float((input(\"¿qué cantidad quieres invertir inicialmente?\")))\n",
    "interés_anual = float(input(\"¿cuál es el interés anual?\"))\n",
    "n_años = float(input(\"¿cuántos años?\"))\n",
    "capital_obtenido = inversión_inicial * interés_anual * n_años / 365\n",
    "print(capital_obtenido, \"euros\")"
   ]
  },
  {
   "attachments": {},
   "cell_type": "markdown",
   "metadata": {},
   "source": [
    "2.Escribid un programa en el que se pregunte al usuario por una frase y una letra, y muestre por pantalla el número de veces que aparece la letra en la frase."
   ]
  },
  {
   "cell_type": "code",
   "execution_count": 10,
   "metadata": {},
   "outputs": [
    {
     "data": {
      "text/plain": [
       "1"
      ]
     },
     "execution_count": 10,
     "metadata": {},
     "output_type": "execute_result"
    }
   ],
   "source": [
    "frase = input(\"dime una frase\")\n",
    "letra = input(\"dime una letra\")\n",
    "frase.count(letra)"
   ]
  },
  {
   "attachments": {},
   "cell_type": "markdown",
   "metadata": {},
   "source": [
    "3.Escribid un programa que nos devuelva la tabla de multiplicar de un número especificado en una función input."
   ]
  },
  {
   "cell_type": "code",
   "execution_count": 12,
   "metadata": {},
   "outputs": [
    {
     "ename": "TypeError",
     "evalue": "'builtin_function_or_method' object is not subscriptable",
     "output_type": "error",
     "traceback": [
      "\u001b[0;31m---------------------------------------------------------------------------\u001b[0m",
      "\u001b[0;31mTypeError\u001b[0m                                 Traceback (most recent call last)",
      "Cell \u001b[0;32mIn[12], line 5\u001b[0m\n\u001b[1;32m      3\u001b[0m eleccion \u001b[39m*\u001b[39m numero\n\u001b[1;32m      4\u001b[0m tabla \u001b[39m=\u001b[39m []\n\u001b[0;32m----> 5\u001b[0m \u001b[39mprint\u001b[39;49m [tabla]\n",
      "\u001b[0;31mTypeError\u001b[0m: 'builtin_function_or_method' object is not subscriptable"
     ]
    }
   ],
   "source": [
    "eleccion =int(input (\"elige un número para multiplicar\"))\n",
    "for numero in range (1, 11):\n",
    "    eleccion * numero\n",
    "    tabla = []\n",
    "    print [tabla]"
   ]
  },
  {
   "attachments": {},
   "cell_type": "markdown",
   "metadata": {},
   "source": [
    "4.Dada la siguinte lista de números:\n",
    "numbers = [12, 75, 150, 180, 145, 525, 50]\n",
    "Escribid un programa que muestre sólo los números de una lista que cumplan las siguientes condiciones\n",
    "El número debe ser divisible entre cinco\n",
    "Si el número es mayor que 150, se salta y se pasa al siguiente número\n",
    "Si el número es mayor que 500, entonces detenga el bucle"
   ]
  },
  {
   "cell_type": "code",
   "execution_count": null,
   "metadata": {},
   "outputs": [],
   "source": []
  },
  {
   "attachments": {},
   "cell_type": "markdown",
   "metadata": {},
   "source": [
    "5.Dada la siguiente lista:\n",
    "list1 = [10, 20, 30, 40, 50]\n",
    "Imprimir la lista en orden inverso"
   ]
  },
  {
   "cell_type": "code",
   "execution_count": null,
   "metadata": {},
   "outputs": [],
   "source": []
  },
  {
   "attachments": {},
   "cell_type": "markdown",
   "metadata": {},
   "source": [
    "6.Dado el siguiente código\n",
    "for i in ['1','2','3']:\n",
    "    print (i**2)\n",
    "Usando un try ... except, cread un programa para evitar que nos de un error el código anterior. En su lugar, si se encuentra un error, deberéis poner el código necesario para que no nos devuelva error."
   ]
  },
  {
   "cell_type": "code",
   "execution_count": null,
   "metadata": {},
   "outputs": [],
   "source": []
  }
 ],
 "metadata": {
  "kernelspec": {
   "display_name": "adalabenv",
   "language": "python",
   "name": "python3"
  },
  "language_info": {
   "codemirror_mode": {
    "name": "ipython",
    "version": 3
   },
   "file_extension": ".py",
   "mimetype": "text/x-python",
   "name": "python",
   "nbconvert_exporter": "python",
   "pygments_lexer": "ipython3",
   "version": "3.10.11"
  },
  "orig_nbformat": 4
 },
 "nbformat": 4,
 "nbformat_minor": 2
}
