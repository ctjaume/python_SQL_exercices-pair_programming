{
 "cells": [
  {
   "attachments": {},
   "cell_type": "markdown",
   "metadata": {},
   "source": [
    "# Ejercicio 4 Pair Programming"
   ]
  },
  {
   "attachments": {},
   "cell_type": "markdown",
   "metadata": {},
   "source": [
    "Nuestro diccionario estará compuesto por cuatro keys que serán:\n",
    "nombres\n",
    "apellidos\n",
    "edades\n",
    "hijos\n",
    "Cada una de las keys tendrá un value que será una lista que iremos construyendo con inputs. Para crear los values seguid los pasos que os indicamos a continuación.\n",
    "\n",
    "Cread un input que pregunte a la usuaria por tres nombres. Almacenad el resultado en una lista. Esta lista será el value de la key nombres\n",
    "\n",
    "Cread un input que pregunte a la usuaria por tres apellidos. Convertir el resultado en lista y este será el value de la key apellidos.\n",
    "\n",
    "Cread un input que pregunte a la usuaria por tres edades. Almancenad los resultados en una lista. Esta lista será el value de la key edades.\n",
    "\n",
    "Cread un input que pregunte a la usuaria por el número de hijos. Almacenad este resultado en una lista. Esta lista será el value de la key hijos.\n",
    "\n",
    "Cread un diccionario con los resultados del input. Al final de todos estos pasos deberíamos tener un diccionario similar a este:\n",
    "\n",
    "{'nombres': ['Lara', ' Alejandro', ' Ana'],\n",
    "  'apellidos': ['Lopez', ' Martin', ' Solo'],\n",
    "  'edades': [34, 20, 28],\n",
    "  'hijos': [2, 0, 1]}\n",
    "\n",
    "pistas:\n",
    "  edades[0] = int(edades[0])\n",
    "  lista1 = ['a','b','c']\n",
    "  lista1[0] = int(lista1[0])\n",
    "  print(lista1)\n",
    "\n"
   ]
  },
  {
   "cell_type": "code",
   "execution_count": 1,
   "metadata": {},
   "outputs": [
    {
     "name": "stdout",
     "output_type": "stream",
     "text": [
      "['Lara', 'Alejandro', 'Ana']\n",
      "{'nombres': ['Lara', 'Alejandro', 'Ana'], 'apellidos': ['Lopez', 'Martin', 'Solo'], 'edad': [34, 20, 28], 'num_hijos': [2, 0, 1]}\n"
     ]
    }
   ],
   "source": [
    "nombres = input(\"Introduce los 3 nombres\").split(\",\")\n",
    "print(nombres)\n",
    "\n",
    "apellidos = input(\"Introduce los 3 apellidos\").split(\",\")\n",
    "\n",
    "edades = (input(\"Introduce las 3 edades\")).split(\",\")\n",
    "edades[0] = int(edades[0])\n",
    "edades[1] = int(edades[1])\n",
    "edades[2] = int(edades[2])\n",
    "\n",
    "hijos = input(\"Introduce el número de hijos\").split(\",\")\n",
    "hijos[0] = int(hijos[0])\n",
    "hijos[1] = int(hijos[1])\n",
    "hijos[2] = int(hijos[2])\n",
    "\n",
    "usuarias = {\"nombres\":nombres, \"apellidos\":apellidos,\"edad\":edades,\"num_hijos\":hijos}\n",
    "\n",
    "print(usuarias)"
   ]
  },
  {
   "attachments": {},
   "cell_type": "markdown",
   "metadata": {},
   "source": [
    "Una vez tengáis creado el diccionario, añadid una nueva key donde tengamos la información sobre el número de hermanos."
   ]
  },
  {
   "cell_type": "code",
   "execution_count": 2,
   "metadata": {},
   "outputs": [
    {
     "name": "stdout",
     "output_type": "stream",
     "text": [
      "{'nombres': ['Lara', 'Alejandro', 'Ana'], 'apellidos': ['Lopez', 'Martin', 'Solo'], 'edad': [34, 20, 28], 'num_hijos': [2, 0, 1], 'num_hermanos': [1, 2, 3]}\n"
     ]
    }
   ],
   "source": [
    "hermanos = (input(\"Introduce el número de hermanos de cada persona\")).split(\",\")\n",
    "hermanos[0] = int(hermanos[0])\n",
    "hermanos[1] = int(hermanos[1])\n",
    "hermanos[2] = int(hermanos[2])\n",
    "usuarias.update({\"num_hermanos\" : hermanos}) # Método 1\n",
    "# usuarias[\"num_hermanos\"] = hermanos # Método 2\n",
    "print(usuarias)"
   ]
  },
  {
   "attachments": {},
   "cell_type": "markdown",
   "metadata": {},
   "source": [
    "¿Cúales son las keys de nuestro diccionario? ¿Y los values?\n",
    "\n",
    "Ordena los elementos del diccionario basándonos en las keys y los values. Esto nos devuelve una lista de tuplas(todavía no hemos visto este tipo de datos, pero lo veremos en la lección de mañana). Convertid esta lista de tuplas en diccionario.\n",
    "\n"
   ]
  },
  {
   "cell_type": "code",
   "execution_count": 3,
   "metadata": {},
   "outputs": [
    {
     "data": {
      "text/plain": [
       "dict_keys(['nombres', 'apellidos', 'edad', 'num_hijos', 'num_hermanos'])"
      ]
     },
     "execution_count": 3,
     "metadata": {},
     "output_type": "execute_result"
    }
   ],
   "source": [
    "usuarias.keys()"
   ]
  },
  {
   "cell_type": "code",
   "execution_count": 4,
   "metadata": {},
   "outputs": [
    {
     "data": {
      "text/plain": [
       "dict_values([['Lara', 'Alejandro', 'Ana'], ['Lopez', 'Martin', 'Solo'], [34, 20, 28], [2, 0, 1], [1, 2, 3]])"
      ]
     },
     "execution_count": 4,
     "metadata": {},
     "output_type": "execute_result"
    }
   ],
   "source": [
    "usuarias.values()"
   ]
  },
  {
   "cell_type": "code",
   "execution_count": 5,
   "metadata": {},
   "outputs": [
    {
     "name": "stdout",
     "output_type": "stream",
     "text": [
      "[('apellidos', ['Lopez', 'Martin', 'Solo']), ('edad', [34, 20, 28]), ('nombres', ['Lara', 'Alejandro', 'Ana']), ('num_hermanos', [1, 2, 3]), ('num_hijos', [2, 0, 1])]\n"
     ]
    },
    {
     "data": {
      "text/plain": [
       "{'apellidos': ['Lopez', 'Martin', 'Solo'],\n",
       " 'edad': [34, 20, 28],\n",
       " 'nombres': ['Lara', 'Alejandro', 'Ana'],\n",
       " 'num_hermanos': [1, 2, 3],\n",
       " 'num_hijos': [2, 0, 1]}"
      ]
     },
     "execution_count": 5,
     "metadata": {},
     "output_type": "execute_result"
    }
   ],
   "source": [
    "print(sorted(usuarias.items()))\n",
    "dict(sorted(usuarias.items()))"
   ]
  },
  {
   "attachments": {},
   "cell_type": "markdown",
   "metadata": {},
   "source": [
    "Para extraer los values de una key podemos hacerlo de varias formas.\n",
    "Extraed los valores de la key nombres. Utilizad dos métodos diferentes.\n",
    "Extraed los valores de la key nacionalidad. En caso de que no exista, cread esa key con el value \"desconocida\"."
   ]
  },
  {
   "cell_type": "code",
   "execution_count": 6,
   "metadata": {},
   "outputs": [
    {
     "name": "stdout",
     "output_type": "stream",
     "text": [
      "['Lara', 'Alejandro', 'Ana']\n",
      "['Lara', 'Alejandro', 'Ana']\n",
      "desconocida\n",
      "{'nombres': ['Lara', 'Alejandro', 'Ana'], 'apellidos': ['Lopez', 'Martin', 'Solo'], 'edad': [34, 20, 28], 'num_hijos': [2, 0, 1], 'num_hermanos': [1, 2, 3], 'nacionalidad': 'desconocida'}\n"
     ]
    }
   ],
   "source": [
    "print(usuarias.setdefault(\"nombres\",[]))\n",
    "print(usuarias.get(\"nombres\"))\n",
    "print(usuarias.setdefault(\"nacionalidad\",\"desconocida\"))\n",
    "print(usuarias)\n"
   ]
  },
  {
   "attachments": {},
   "cell_type": "markdown",
   "metadata": {},
   "source": [
    "Ordena los elementos del diccionario basándonos en las keys y los values. Esto nos devuelve una lista de tuplas(todavía no hemos visto este tipo de datos, pero lo veremos en la lección de mañana). Convertid esta lista de tuplas en diccionario."
   ]
  },
  {
   "cell_type": "code",
   "execution_count": 7,
   "metadata": {},
   "outputs": [
    {
     "name": "stdout",
     "output_type": "stream",
     "text": [
      "[('apellidos', ['Lopez', 'Martin', 'Solo']), ('edad', [34, 20, 28]), ('nacionalidad', 'desconocida'), ('nombres', ['Lara', 'Alejandro', 'Ana']), ('num_hermanos', [1, 2, 3]), ('num_hijos', [2, 0, 1])]\n"
     ]
    },
    {
     "data": {
      "text/plain": [
       "{'apellidos': ['Lopez', 'Martin', 'Solo'],\n",
       " 'edad': [34, 20, 28],\n",
       " 'nacionalidad': 'desconocida',\n",
       " 'nombres': ['Lara', 'Alejandro', 'Ana'],\n",
       " 'num_hermanos': [1, 2, 3],\n",
       " 'num_hijos': [2, 0, 1]}"
      ]
     },
     "execution_count": 7,
     "metadata": {},
     "output_type": "execute_result"
    }
   ],
   "source": [
    "print(sorted(usuarias.items()))\n",
    "dict(sorted(usuarias.items()))"
   ]
  },
  {
   "attachments": {},
   "cell_type": "markdown",
   "metadata": {},
   "source": [
    "Eliminad la key de \"nacionalidad\""
   ]
  },
  {
   "cell_type": "code",
   "execution_count": 8,
   "metadata": {},
   "outputs": [
    {
     "name": "stdout",
     "output_type": "stream",
     "text": [
      "{'nombres': ['Lara', 'Alejandro', 'Ana'], 'apellidos': ['Lopez', 'Martin', 'Solo'], 'edad': [34, 20, 28], 'num_hijos': [2, 0, 1], 'num_hermanos': [1, 2, 3]}\n"
     ]
    }
   ],
   "source": [
    "usuarias.pop(\"nacionalidad\")\n",
    "print(usuarias)"
   ]
  },
  {
   "attachments": {},
   "cell_type": "markdown",
   "metadata": {},
   "source": [
    "Utilizando métodos de Python. ¿Qué persona tiene mayor número de hijos? ¿Y quién es la más joven?"
   ]
  },
  {
   "cell_type": "code",
   "execution_count": 9,
   "metadata": {},
   "outputs": [
    {
     "name": "stdout",
     "output_type": "stream",
     "text": [
      "2\n",
      "0\n",
      "['Lara', 'Alejandro', 'Ana']\n"
     ]
    },
    {
     "data": {
      "text/plain": [
       "'Lara'"
      ]
     },
     "execution_count": 9,
     "metadata": {},
     "output_type": "execute_result"
    }
   ],
   "source": [
    "max_num_hijos = max(usuarias.get(\"num_hijos\"))\n",
    "print(max_num_hijos)\n",
    "usuarias.get(\"num_hijos\").index(max_num_hijos)\n",
    "index_max_num_hijos = usuarias.get(\"num_hijos\").index(max_num_hijos)\n",
    "print(index_max_num_hijos)\n",
    "print(usuarias.get(\"nombres\"))\n",
    "lista_nombres = usuarias.get(\"nombres\")\n",
    "lista_nombres[index_max_num_hijos]\n",
    "\n",
    "# num_hijos = [2,0,1]\n",
    "# indices      0,1,2 \n",
    "# Correcto es 2 hijos, es decir, índice 0.\n",
    "# nombres = ['Lara', 'Alejandro', 'Ana']\n",
    "# indices       0           1       2\n",
    "# Para saber que persona (\"nombres\") tiene mayor número de hijos, utilizamos el índice 0 que hemos obtenido al averiguar el máximo número de hijos, en la lista de \"nombres\" (usuarias.get(\"nombres\"))\n"
   ]
  },
  {
   "cell_type": "code",
   "execution_count": 10,
   "metadata": {},
   "outputs": [
    {
     "name": "stdout",
     "output_type": "stream",
     "text": [
      "20\n",
      "1\n",
      "['Lara', 'Alejandro', 'Ana']\n"
     ]
    },
    {
     "data": {
      "text/plain": [
       "'Alejandro'"
      ]
     },
     "execution_count": 10,
     "metadata": {},
     "output_type": "execute_result"
    }
   ],
   "source": [
    "min_edad = min(usuarias.get(\"edad\"))\n",
    "print(min_edad)\n",
    "usuarias.get(\"edad\").index(min_edad)\n",
    "index_min_edad = usuarias.get(\"edad\").index(min_edad)\n",
    "print(index_min_edad)\n",
    "lista_nombres = usuarias.get(\"nombres\")\n",
    "print(lista_nombres)\n",
    "lista_nombres[index_min_edad]\n"
   ]
  }
 ],
 "metadata": {
  "kernelspec": {
   "display_name": "adalabenv",
   "language": "python",
   "name": "python3"
  },
  "language_info": {
   "codemirror_mode": {
    "name": "ipython",
    "version": 3
   },
   "file_extension": ".py",
   "mimetype": "text/x-python",
   "name": "python",
   "nbconvert_exporter": "python",
   "pygments_lexer": "ipython3",
   "version": "3.10.11"
  },
  "orig_nbformat": 4
 },
 "nbformat": 4,
 "nbformat_minor": 2
}
