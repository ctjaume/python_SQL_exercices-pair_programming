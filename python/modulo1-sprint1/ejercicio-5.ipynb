{
 "cells": [
  {
   "attachments": {},
   "cell_type": "markdown",
   "metadata": {},
   "source": [
    "# Ejercicio 5 Pair Programming"
   ]
  },
  {
   "attachments": {},
   "cell_type": "markdown",
   "metadata": {},
   "source": [
    "## Tuplas\n",
    "1. Cread una tupla que contenga la letra \"A\"\n",
    "2. Añadid los siguientes elementos \"d\", \"a\", \"l\", \"a\", \"b\" a la tupla definida en el paso anterior. ¿Se puede? ¿Por qué?\n",
    "3. Pensad de que forma podríamos tener una tupla que contenga el siguiente contenido (\"A\", \"d\", \"a\", \"l\", \"a\", \"b\") usando métodos de Python.\n",
    "4. ¿Cuál es el índice de la letra \"l\"?\n",
    "5. ¿Cuántas veces aparece la letra \"a\" en nuestra tupla?"
   ]
  },
  {
   "cell_type": "code",
   "execution_count": 18,
   "metadata": {},
   "outputs": [
    {
     "name": "stdout",
     "output_type": "stream",
     "text": [
      "('A',)\n",
      "('A', 'd', 'a', 'l', 'a', 'b')\n",
      "3\n",
      "2\n"
     ]
    }
   ],
   "source": [
    "tupla_1 = (\"A\",)\n",
    "print(tupla_1)\n",
    "tupla_1 = tupla_1 + (\"d\", \"a\", \"l\", \"a\", \"b\") #se puede siempre y cuando se añada como una tupla\n",
    "print(tupla_1)\n",
    "print(tupla_1.index(\"l\"))\n",
    "print(tupla_1.count(\"a\"))"
   ]
  },
  {
   "attachments": {},
   "cell_type": "markdown",
   "metadata": {},
   "source": [
    "## Sets\n",
    "1. Dados los siguientes sets:\n",
    "```python\n",
    "set1 = {1,3,6,2,8,9}\n",
    "set2 = {2,1,9,3,10,18}\n",
    "```\n",
    "2. Identifica los elementos que están en set1 pero no en set2. Almacenad los resultados en una variable que se llame set3\n",
    "3. Identifica los elementos que están en set2 pero no en set1. Almacenad los resultados en una variable que se llame set4.\n",
    "4. Identifica los elementos comunes entre el set1 y el set2. Almacenad los resultados en una variable que se llame set5.\n",
    "5. Cread un set vacío llamado set6. Añadid el set3 y set4 al set6.\n",
    "6. ¿Es el set1 igual al set6?\n",
    "7. Chequead si el set1 contiene al set2. 💡Pista: deberéis usar el método issubset()\n",
    "8. Eliminad el primer elemento del set6"
   ]
  },
  {
   "cell_type": "code",
   "execution_count": 47,
   "metadata": {},
   "outputs": [
    {
     "name": "stdout",
     "output_type": "stream",
     "text": [
      "{8, 6}\n",
      "{18, 10}\n",
      "<class 'set'>\n",
      "{8, 18, 10, 6}\n",
      "False\n",
      "False\n",
      "{18, 10, 6}\n"
     ]
    }
   ],
   "source": [
    "set1 = {1,3,6,2,8,9}\n",
    "set2 = {2,1,9,3,10,18}\n",
    "set3 = set1.difference(set2)\n",
    "print(set3)\n",
    "set4 = set2.difference(set1)\n",
    "print(set4)\n",
    "set6 = set()\n",
    "print(type(set6))\n",
    "set6.update(set3, set4)\n",
    "print(set6)\n",
    "print(set1 == set6)\n",
    "print(set2.issubset(set1))\n",
    "set6.remove(8)\n",
    "print(set6)\n",
    "#list_set6 = list(set6)\n",
    "#print(list_set6[0])\n",
    "#list_set6.remove(8)\n",
    "#print(list_set6)\n"
   ]
  }
 ],
 "metadata": {
  "kernelspec": {
   "display_name": "adalabenv",
   "language": "python",
   "name": "python3"
  },
  "language_info": {
   "codemirror_mode": {
    "name": "ipython",
    "version": 3
   },
   "file_extension": ".py",
   "mimetype": "text/x-python",
   "name": "python",
   "nbconvert_exporter": "python",
   "pygments_lexer": "ipython3",
   "version": "3.10.11"
  },
  "orig_nbformat": 4
 },
 "nbformat": 4,
 "nbformat_minor": 2
}
