{
 "cells": [
  {
   "attachments": {},
   "cell_type": "markdown",
   "metadata": {},
   "source": [
    "# Ejercicio 2 Pair Programming"
   ]
  },
  {
   "cell_type": "code",
   "execution_count": 1,
   "metadata": {},
   "outputs": [
    {
     "name": "stdout",
     "output_type": "stream",
     "text": [
      "1.67\n",
      "1.45\n"
     ]
    }
   ],
   "source": [
    "#lista_amigos = input(\"Escribe el nombre de tus amigos\").split(\",\")\n",
    "\n",
    "lista_alturas = input(\"Escribe las alturas de tus amigos\").split(\",\")\n",
    "\n",
    "lista_alturas = [float(i) for i in lista_alturas]\n",
    "\n",
    "lista_alturas_rev = lista_alturas.sort(reverse=True)\n",
    "\n",
    "print(max(lista_alturas))\n",
    "\n",
    "print(min(lista_alturas))"
   ]
  },
  {
   "cell_type": "code",
   "execution_count": 2,
   "metadata": {},
   "outputs": [
    {
     "name": "stdout",
     "output_type": "stream",
     "text": [
      "[[44, 55, 67, 44, 98, 29], [34, 56, 56, 78, 67, 56]]\n",
      "[44, 55, 67, 44, 98, 29, 34, 56, 56, 78, 67, 56]\n",
      "0\n",
      "2\n",
      "[56, 67, 78, 56, 56, 34, 29, 98, 44, 67, 55, 44]\n"
     ]
    }
   ],
   "source": [
    "lista1 = [44, 55, 67, 44, 98, 29]\n",
    "lista2 = [34, 56, 56, 78, 67, 56]\n",
    "\n",
    "lista_lista = [lista1,lista2]\n",
    "print(lista_lista)\n",
    "\n",
    "lista_numeros = lista1 + lista2 \n",
    "#ojo no meter dentro de corchetes, \n",
    "#porque queremos juntar dos listas, \n",
    "#no meter esta lista unificada dentro de otra lista\n",
    "\n",
    "print(lista_numeros)\n",
    "\n",
    "print(lista_lista.count(67))\n",
    "\n",
    "print(lista_numeros.count(67))\n",
    "\n",
    "#Salen diferentes porque en lista_lista los elementos son lista1 y lista2, \n",
    "#ninguno coincide con 67\n",
    "\n",
    "lista_numeros.reverse()\n",
    "print(lista_numeros)"
   ]
  }
 ],
 "metadata": {
  "kernelspec": {
   "display_name": "adalabenv",
   "language": "python",
   "name": "python3"
  },
  "language_info": {
   "codemirror_mode": {
    "name": "ipython",
    "version": 3
   },
   "file_extension": ".py",
   "mimetype": "text/x-python",
   "name": "python",
   "nbconvert_exporter": "python",
   "pygments_lexer": "ipython3",
   "version": "3.10.11"
  },
  "orig_nbformat": 4
 },
 "nbformat": 4,
 "nbformat_minor": 2
}
