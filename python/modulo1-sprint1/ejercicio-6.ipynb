{
 "cells": [
  {
   "attachments": {},
   "cell_type": "markdown",
   "metadata": {},
   "source": [
    "EJERCICIO 6 - Pair Programming\n",
    "En la escuela donde trabajamos tienen el siguiente sistema de notas:\n",
    "- Below 25 - F\n",
    "- 25 to 45 - E\n",
    "- 45 to 50 - D\n",
    "- 50 to 60 - C\n",
    "- 60 to 80 - B\n",
    "- Above 80 - A\n",
    "  \n",
    "  l objetivo de este ejercicio es que le preguntéis al usuario por una nota (numérica) y nosotros le devolvamos la nota con la letra que le corresponde.\n",
    "Cread tres inputs donde a cada uno de ellos le preguntéis su edad, el objetivo del ejercicio es determinar quien es el más viejo y el más joven.\n",
    "Escribid un programa que pregunte el nombre del usuario a través de la función input(). Si el nombre es \"Bond\" haced que imprima \"Bienvenido a bordo de 007\". En caso contrario haced que imprima \"Buenos días NOMBRE\". (Reemplace NOMBRE por el nombre del usuario).\n",
    "arbol es un diccionario que muestra el número de árboles de países por kilómetro cuadrado para países aleatorios con un número considerable de población. Crea una lista llamada \"masarboles\" que contenga el nombre de los países con más de 40.000 árboles por kilómetro cuadrado.\n",
    "\n",
    "tree = {\"Taiwan\": 69593,\n",
    "        \"Japan\": 49894, \n",
    "        \"Russia\": 41396, \n",
    "        \"Canada\": 36388, \n",
    "        \"Bulgaria\": 24987}\n",
    "\n",
    "\n",
    "\n",
    "\n",
    "  "
   ]
  },
  {
   "cell_type": "code",
   "execution_count": 4,
   "metadata": {},
   "outputs": [
    {
     "name": "stdout",
     "output_type": "stream",
     "text": [
      "Tu calificación es A\n"
     ]
    }
   ],
   "source": [
    "nota = int(input(\"Introduce tu nota (de 0 a 100)\"))\n",
    "if nota < 25:\n",
    "    print(\"Tu calificación es F\")\n",
    "elif nota >= 25 and nota < 45:\n",
    "    print(\"Tu calificación es E\") \n",
    "elif nota >= 45 and nota < 50:\n",
    "    print(\"Tu calificación es D\")  \n",
    "elif nota >= 50 and nota < 60:\n",
    "    print(\"Tu calificación es c\")  \n",
    "elif nota >= 60 and nota < 80:\n",
    "    print(\"Tu calificación es B\") \n",
    "else: print(\"Tu calificación es A\")"
   ]
  },
  {
   "attachments": {},
   "cell_type": "markdown",
   "metadata": {},
   "source": [
    "2.Cread tres inputs donde a cada uno de ellos le preguntéis su edad, el objetivo del ejercicio es determinar quien es el más viejo y el más joven."
   ]
  },
  {
   "cell_type": "code",
   "execution_count": 5,
   "metadata": {},
   "outputs": [
    {
     "name": "stdout",
     "output_type": "stream",
     "text": [
      "El más joven de vosotros tiene 25 años\n",
      "El más mayor de vosotros tiene 50 años\n"
     ]
    }
   ],
   "source": [
    "edad1 = int(input (\"Introduce primera edad\"))\n",
    "edad2 = int(input (\"Introduce segunda edad\"))\n",
    "edad3 = int(input (\"Introduce tercera edad\"))\n",
    "\n",
    "lista_edades = [edad1, edad2, edad3]\n",
    "mas_joven = min(lista_edades)\n",
    "mas_mayor = max(lista_edades)\n",
    "\n",
    "print(F\"El más joven de vosotros tiene {mas_joven} años\")\n",
    "print(F\"El más mayor de vosotros tiene {mas_mayor} años\")"
   ]
  },
  {
   "attachments": {},
   "cell_type": "markdown",
   "metadata": {},
   "source": [
    "3.Escribid un programa que pregunte el nombre del usuario a través de la función input(). Si el nombre es \"Bond\" haced que imprima \"Bienvenido a bordo de 007\". En caso contrario haced que imprima \"Buenos días NOMBRE\". (Reemplace NOMBRE por el nombre del usuario)."
   ]
  },
  {
   "cell_type": "code",
   "execution_count": 13,
   "metadata": {},
   "outputs": [
    {
     "name": "stdout",
     "output_type": "stream",
     "text": [
      "Bienvenido a bordo de 007\n"
     ]
    }
   ],
   "source": [
    "nombre_usuario = input(\"Escribe tu nombre\")\n",
    "\n",
    "if nombre_usuario == 'Bond':\n",
    "    print(\"Bienvenido a bordo de 007\")\n",
    "else: \n",
    "    print(F\"Buenos días, {nombre_usuario}\") \n",
    "    #print(\"Buenos días,\", nombre_usuario)\n",
    "    #print(\"Buenos días, \"+ nombre_usuario)\n",
    "    "
   ]
  },
  {
   "attachments": {},
   "cell_type": "markdown",
   "metadata": {},
   "source": [
    "4.arbol es un diccionario que muestra el número de árboles de países por kilómetro cuadrado para países aleatorios con un número considerable de población. Crea una lista llamada \"masarboles\" que contenga el nombre de los países con más de 40.000 árboles por kilómetro cuadrado.\n",
    "tree = {\"Taiwan\": 69593,\n",
    "        \"Japan\": 49894, \n",
    "        \"Russia\": 41396, \n",
    "        \"Canada\": 36388, \n",
    "        \"Bulgaria\": 24987}"
   ]
  },
  {
   "cell_type": "code",
   "execution_count": 26,
   "metadata": {},
   "outputs": [
    {
     "data": {
      "text/plain": [
       "['Taiwan', 'Japan', 'Russia']"
      ]
     },
     "execution_count": 26,
     "metadata": {},
     "output_type": "execute_result"
    }
   ],
   "source": [
    "arbol = {\"Taiwan\": 69593, \"Japan\": 49894, \"Russia\": 41396, \"Canada\": 36388, \"Bulgaria\": 24987}\n",
    "masarboles = [] #lo había definido antes como diccionario {}, pero debía ser una lista... []\n",
    "\n",
    "#no podemos acceder a las entradas de un diccionario como hacemos en una lista, señalando su índice, sólo a través de la key o el value. \n",
    "#para acceder a las values, que es lo que tenemos que ver si es mayor de 4000, los convertimos en lista. \n",
    "#esta idea la copié de Cristina, que es una crack\n",
    "\n",
    "arbol_lista_val = list(arbol.values())\n",
    "\n",
    "#y para poder meter las keys en la lista masarboles también lo convertimos en una lista. \n",
    "# Lo bueno es que el índice de cada key y de cada value va a ser el mismo en cada lista.\n",
    "\n",
    "arbol_lista_keys = list(arbol.keys())\n",
    "\n",
    "#y ahora ya empezamos con la sentencia de control. También copiado de Cristina :)\n",
    "#tenemos que hacer referencia a los índices para poder aumentarlos de manera automática\n",
    "#por eso creamos una variable e iremos operando sobre ella\n",
    "\n",
    "index = 0\n",
    "\n",
    "#ahora establecemos la condición por la cual mientras se cumpla se siga ejecutando el código en bucle,\n",
    "#elejimos la condición: mientras que el índice se inferior o igual a la longitud de la lista\n",
    "#obtenemos la longitud de la lista con len() y lo metemos en una variable\n",
    "\n",
    "index_max = len(arbol_lista_keys)-1 #menos 1 porque los índices empiezan en 0\n",
    "while index <= index_max:\n",
    "    if arbol_lista_val[index] > 40000:\n",
    "        masarboles.append(arbol_lista_keys[index]) #el índice de la lista de keys debe ser el mismo que el de values\n",
    "    index += 1    #ésto es lo mismo que index = index + 1 ojo con la identación, subimos el índice dentro del while, pero fuera del if\n",
    "\n",
    "print(masarboles)\n",
    "#lo acabo de resolver y ya no me acuerdo de nada, lol"
   ]
  },
  {
   "cell_type": "code",
   "execution_count": 20,
   "metadata": {},
   "outputs": [
    {
     "data": {
      "text/plain": [
       "['Taiwan', 'Japan', 'Russia', 'Canada', 'Bulgaria']"
      ]
     },
     "execution_count": 20,
     "metadata": {},
     "output_type": "execute_result"
    }
   ],
   "source": [
    "arbol_lista_keys"
   ]
  },
  {
   "attachments": {},
   "cell_type": "markdown",
   "metadata": {},
   "source": [
    "5.Los alumnos de un curso se han dividido en dos grupos A y B de acuerdo al sexo y el nombre. El grupo A esta formado por las mujeres con un nombre anterior a la M y los hombres con un nombre posterior a la N y el grupo B por el resto. Escribid un programa que pregunte al usuario su nombre y sexo, y muestre por pantalla el grupo que le corresponde."
   ]
  },
  {
   "cell_type": "code",
   "execution_count": null,
   "metadata": {},
   "outputs": [],
   "source": []
  },
  {
   "attachments": {},
   "cell_type": "markdown",
   "metadata": {},
   "source": [
    "6. Escribid un programa que:\n",
    "Dada la variable z con valor 0, es decir z = 0.\n",
    "Mientras que el valor de z sea menor que 3:\n",
    "-Si el valor de z es igual a 0:\n",
    "Printead el valor de z\n",
    "Almancenad el valor en una lista auxiliar\n",
    "Sumadle 1 al valor de z\n",
    "-Si el valor de z es igual a 1:\n",
    "Printead el valor de z\n",
    "Almancenad el valor en una lista auxiliar\n",
    "Sumadle 1 al valor de z\n",
    "-En caso de que no se cumplan las condiciones anteriores:\n",
    "Printead el valor de z\n",
    "Sumadle 1 al valor de z"
   ]
  },
  {
   "cell_type": "code",
   "execution_count": null,
   "metadata": {},
   "outputs": [],
   "source": []
  },
  {
   "cell_type": "code",
   "execution_count": null,
   "metadata": {},
   "outputs": [],
   "source": [
    "7. BONUS El objetivo de este ejercicio es añadir elementos a una lista utilizando el bucle while:\n",
    "Cread una lista vacía\n",
    "Cread una variable cuyo valor sea 0\n",
    "Mientras que la longitud de la lista creada en el primer paso sea menor que 4:\n",
    "Apendead el valor de la variable creada en el paso 2\n",
    "Sumad 1 a la variable creada en el paso 2\n",
    "Por último, printead los valores que hemos añadido en la lista vacía (ya no lo estaría)"
   ]
  },
  {
   "cell_type": "code",
   "execution_count": null,
   "metadata": {},
   "outputs": [],
   "source": []
  },
  {
   "attachments": {},
   "cell_type": "markdown",
   "metadata": {},
   "source": [
    "8. BONUS El objetivo de este ejercicio es encontrar la suma de números en una lista usando el bucle while:\n",
    "Cread una variable cuyo valor sea 0, llamadla \"i\"\n",
    "Cread una lista que contenga los siguientes números: 23,45,12,10,25\n",
    "Cread una variable cuyo valor sea 0, llamadla \"suma\"\n",
    "Mientras que el valor de la variable \"i\" sea menor que la longitud de la lista:\n",
    "Sumad elemento a elemento los valores de la lista. Es decir, el primero con el segundo; el resultado de la suma anterior más el tercer número, etc\n",
    "Sumad 1 a la variable \"i\" por cada iteración por el bucle while\n",
    "El resultado esperado es 115."
   ]
  },
  {
   "cell_type": "code",
   "execution_count": null,
   "metadata": {},
   "outputs": [],
   "source": []
  },
  {
   "attachments": {},
   "cell_type": "markdown",
   "metadata": {},
   "source": [
    "9. BONUS Escribid un programa para una empresa que tiene salas de juegos para todas las edades y quiere calcular de forma automática el precio que debe cobrar a sus clientes por entrar. El programa debe preguntar al usuario la edad del cliente y mostrar el precio de la entrada. Si el cliente es menor de 4 años puede entrar gratis, si tiene entre 4 y 18 años debe pagar 5€ y si es mayor de 18 años, 10€."
   ]
  },
  {
   "cell_type": "code",
   "execution_count": null,
   "metadata": {},
   "outputs": [],
   "source": []
  },
  {
   "attachments": {},
   "cell_type": "markdown",
   "metadata": {},
   "source": [
    "10.BONUS La pizzería Bella Napoli ofrece pizzas vegetarianas y no vegetarianas a sus clientes. Los ingredientes para cada tipo de pizza aparecen a continuación.\n",
    "Ingredientes vegetarianos: Pimiento y tofu.\n",
    "Ingredientes no vegetarianos: Peperoni, Jamón y Salmón.\n",
    "Escribid un programa que pregunte al usuario si quiere una pizza vegetariana o no, y en función de su respuesta le muestre un menú con los ingredientes disponibles para que elija. Solo se puede eligir un ingrediente además de la mozzarella y el tomate que están en todas la pizzas. Al final se debe mostrar por pantalla si la pizza elegida es vegetariana o no y todos los ingredientes que lleva."
   ]
  },
  {
   "cell_type": "code",
   "execution_count": null,
   "metadata": {},
   "outputs": [],
   "source": []
  }
 ],
 "metadata": {
  "kernelspec": {
   "display_name": "base",
   "language": "python",
   "name": "python3"
  },
  "language_info": {
   "codemirror_mode": {
    "name": "ipython",
    "version": 3
   },
   "file_extension": ".py",
   "mimetype": "text/x-python",
   "name": "python",
   "nbconvert_exporter": "python",
   "pygments_lexer": "ipython3",
   "version": "3.9.7"
  },
  "orig_nbformat": 4
 },
 "nbformat": 4,
 "nbformat_minor": 2
}
