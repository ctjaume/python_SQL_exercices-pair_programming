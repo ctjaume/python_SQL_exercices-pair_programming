{
 "cells": [
  {
   "attachments": {},
   "cell_type": "markdown",
   "metadata": {},
   "source": [
    "# Ejercicio 1 Pair Programming"
   ]
  },
  {
   "cell_type": "code",
   "execution_count": 1,
   "metadata": {},
   "outputs": [],
   "source": [
    "numero1 = 0\n",
    "numero2 = 1\n",
    "numero3 = 2"
   ]
  },
  {
   "cell_type": "code",
   "execution_count": 2,
   "metadata": {},
   "outputs": [
    {
     "name": "stdout",
     "output_type": "stream",
     "text": [
      "True\n",
      "False\n",
      "False\n",
      "True\n"
     ]
    }
   ],
   "source": [
    "print(numero1 < numero2)\n",
    "print(numero1 < numero2 and  numero1 > numero3)\n",
    "print(numero3 == numero2)\n",
    "print(numero2 != numero1)"
   ]
  },
  {
   "cell_type": "code",
   "execution_count": 3,
   "metadata": {},
   "outputs": [
    {
     "name": "stdout",
     "output_type": "stream",
     "text": [
      "2.57\n",
      "2.03\n",
      "0.13999999999999968\n",
      "8.52\n"
     ]
    }
   ],
   "source": [
    "altura1 = 0.27\n",
    "altura2 = 2.30\n",
    "print(altura1 + altura2)\n",
    "print(altura2 - altura1)\n",
    "print(altura2 % altura1)\n",
    "print(round(altura2/altura1,2))"
   ]
  },
  {
   "cell_type": "code",
   "execution_count": 4,
   "metadata": {},
   "outputs": [
    {
     "name": "stdout",
     "output_type": "stream",
     "text": [
      "MARÍA GARCÍA\n",
      "maría garcía\n",
      "María García\n",
      "María garcía\n"
     ]
    }
   ],
   "source": [
    "nombre_usuario = input(\"introduzca su nombre y apellidos\")\n",
    "print(nombre_usuario.upper())\n",
    "print(nombre_usuario.lower())\n",
    "print(nombre_usuario.title())\n",
    "print(nombre_usuario.capitalize())\n"
   ]
  },
  {
   "cell_type": "code",
   "execution_count": 5,
   "metadata": {},
   "outputs": [
    {
     "name": "stdout",
     "output_type": "stream",
     "text": [
      "Los Puentes de Madison\n",
      "R\n",
      "R\n",
      "Los Puentes de Madison R\n"
     ]
    }
   ],
   "source": [
    "frase = input(\"escribe tu película preferida\")\n",
    "print(frase)\n",
    "vocal = input(\"introduce una vocal\")\n",
    "print(vocal)\n",
    "print(vocal.capitalize())\n",
    "print(frase , (vocal.capitalize()))"
   ]
  },
  {
   "cell_type": "code",
   "execution_count": 6,
   "metadata": {},
   "outputs": [
    {
     "name": "stdout",
     "output_type": "stream",
     "text": [
      "['peras', 'manzanas', 'naranjas']\n",
      "peras\n",
      "manzanas\n",
      "naranjas\n"
     ]
    },
    {
     "data": {
      "text/plain": [
       "'peras\\nmanzanas\\nnaranjas'"
      ]
     },
     "execution_count": 6,
     "metadata": {},
     "output_type": "execute_result"
    }
   ],
   "source": [
    "lista_de_la_compra = input(\"introduce la lista de la compra\").split(\",\")\n",
    "#la funcion split() divide las letras de un string en los elementos de una lista.\n",
    "#el criterio de por dónde se separa entre los paréntesis, en este caso la coma\n",
    "\n",
    "print(lista_de_la_compra)\n",
    "\n",
    "string_lista = \"\\n\".join(lista_de_la_compra) \n",
    "#la funcion join() convierte los elementos de un string en una frase. Al principio definimos \n",
    "#qué habrá entre elementos en la frase resultante. En este caso un salto de línea\n",
    "\n",
    "print(string_lista)\n",
    "\n",
    "#no nos salen las palabras entre comillas como en el enunciado\n",
    "\n",
    "string_lista\n"
   ]
  }
 ],
 "metadata": {
  "kernelspec": {
   "display_name": "adalabenv",
   "language": "python",
   "name": "python3"
  },
  "language_info": {
   "codemirror_mode": {
    "name": "ipython",
    "version": 3
   },
   "file_extension": ".py",
   "mimetype": "text/x-python",
   "name": "python",
   "nbconvert_exporter": "python",
   "pygments_lexer": "ipython3",
   "version": "3.10.11"
  },
  "orig_nbformat": 4
 },
 "nbformat": 4,
 "nbformat_minor": 2
}
